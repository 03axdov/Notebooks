{
  "nbformat": 4,
  "nbformat_minor": 0,
  "metadata": {
    "colab": {
      "provenance": [],
      "collapsed_sections": [],
      "authorship_tag": "ABX9TyNvjA5dSZvRT5cunSAEyWFN",
      "include_colab_link": true
    },
    "kernelspec": {
      "name": "python3",
      "display_name": "Python 3"
    },
    "language_info": {
      "name": "python"
    }
  },
  "cells": [
    {
      "cell_type": "markdown",
      "metadata": {
        "id": "view-in-github",
        "colab_type": "text"
      },
      "source": [
        "<a href=\"https://colab.research.google.com/github/03axdov/Notebooks/blob/main/MNIST2.ipynb\" target=\"_parent\"><img src=\"https://colab.research.google.com/assets/colab-badge.svg\" alt=\"Open In Colab\"/></a>"
      ]
    },
    {
      "cell_type": "code",
      "execution_count": 2,
      "metadata": {
        "colab": {
          "base_uri": "https://localhost:8080/"
        },
        "id": "twkDjL0_G9lV",
        "outputId": "2bf04e06-5bf5-4b2d-c5ed-9d2c775bcb50"
      },
      "outputs": [
        {
          "output_type": "stream",
          "name": "stdout",
          "text": [
            "Looking in indexes: https://pypi.org/simple, https://us-python.pkg.dev/colab-wheels/public/simple/\n",
            "Requirement already satisfied: pyyaml in /usr/local/lib/python3.7/dist-packages (6.0)\n",
            "Requirement already satisfied: h5py in /usr/local/lib/python3.7/dist-packages (3.1.0)\n",
            "Requirement already satisfied: cached-property in /usr/local/lib/python3.7/dist-packages (from h5py) (1.5.2)\n",
            "Requirement already satisfied: numpy>=1.14.5 in /usr/local/lib/python3.7/dist-packages (from h5py) (1.21.6)\n"
          ]
        }
      ],
      "source": [
        "pip install pyyaml h5py  # Required to save models in HDF5 format"
      ]
    },
    {
      "cell_type": "code",
      "source": [
        "import os\n",
        "\n",
        "import tensorflow as tf\n",
        "from tensorflow import keras\n",
        "\n",
        "print(tf.version.VERSION)"
      ],
      "metadata": {
        "colab": {
          "base_uri": "https://localhost:8080/"
        },
        "id": "25ANgQOwHEyE",
        "outputId": "2f3188c5-dc51-4671-c30b-596eac8120f0"
      },
      "execution_count": 3,
      "outputs": [
        {
          "output_type": "stream",
          "name": "stdout",
          "text": [
            "2.8.2\n"
          ]
        }
      ]
    },
    {
      "cell_type": "code",
      "source": [
        "(train_images, train_labels), (test_images, test_labels) = tf.keras.datasets.mnist.load_data()\n",
        "\n",
        "train_labels = train_labels[:1000]\n",
        "test_labels = test_labels[:1000]\n",
        "\n",
        "print(f\"TRAIN IMAGES: {train_images.shape}\")\n",
        "train_images = train_images[:1000].reshape(-1, 28 * 28) / 255.0 # Reshaping as no conv layers are used\n",
        "test_images = test_images[:1000].reshape(-1, 28*28) / 255.0"
      ],
      "metadata": {
        "colab": {
          "base_uri": "https://localhost:8080/"
        },
        "id": "WSlz4nuUHIV8",
        "outputId": "44f88348-73b6-4d65-c0fc-8dcf4f1adfa1"
      },
      "execution_count": 4,
      "outputs": [
        {
          "output_type": "stream",
          "name": "stdout",
          "text": [
            "Downloading data from https://storage.googleapis.com/tensorflow/tf-keras-datasets/mnist.npz\n",
            "11493376/11490434 [==============================] - 0s 0us/step\n",
            "11501568/11490434 [==============================] - 0s 0us/step\n",
            "TRAIN IMAGES: (60000, 28, 28)\n"
          ]
        }
      ]
    },
    {
      "cell_type": "code",
      "source": [
        "def create_model():\n",
        "  model = tf.keras.Sequential([\n",
        "      keras.layers.Dense(512, activation=\"relu\", input_shape=(28*28,)),\n",
        "      keras.layers.Dropout(0.2),\n",
        "      keras.layers.Dense(10)\n",
        "  ])\n",
        "\n",
        "  model.compile(\n",
        "      optimizer = tf.keras.optimizers.Adam(),\n",
        "      loss = tf.keras.losses.SparseCategoricalCrossentropy(from_logits=True),\n",
        "      metrics=[\n",
        "          tf.keras.metrics.SparseCategoricalAccuracy()\n",
        "      ]\n",
        "  )\n",
        "\n",
        "  return model\n",
        "\n",
        "model = create_model()\n",
        "\n",
        "model.summary()"
      ],
      "metadata": {
        "colab": {
          "base_uri": "https://localhost:8080/"
        },
        "id": "m8qCcOqIH0j1",
        "outputId": "01daa507-8238-4fc6-8554-cacc52b2fc15"
      },
      "execution_count": 5,
      "outputs": [
        {
          "output_type": "stream",
          "name": "stdout",
          "text": [
            "Model: \"sequential\"\n",
            "_________________________________________________________________\n",
            " Layer (type)                Output Shape              Param #   \n",
            "=================================================================\n",
            " dense (Dense)               (None, 512)               401920    \n",
            "                                                                 \n",
            " dropout (Dropout)           (None, 512)               0         \n",
            "                                                                 \n",
            " dense_1 (Dense)             (None, 10)                5130      \n",
            "                                                                 \n",
            "=================================================================\n",
            "Total params: 407,050\n",
            "Trainable params: 407,050\n",
            "Non-trainable params: 0\n",
            "_________________________________________________________________\n"
          ]
        }
      ]
    },
    {
      "cell_type": "code",
      "source": [
        "checkpoint_path = \"training_1/ckpt\"\n",
        "checkpoint_dir = os.path.dirname(checkpoint_path)\n",
        "\n",
        "cp_callback = tf.keras.callbacks.ModelCheckpoint(\n",
        "    filepath = checkpoint_path,\n",
        "    save_weights_only = True,\n",
        "    verbose=1\n",
        ")\n",
        "\n",
        "model.fit(\n",
        "    train_images,\n",
        "    train_labels,\n",
        "    epochs=10,\n",
        "    validation_data=(test_images, test_labels),\n",
        "    callbacks=[cp_callback]\n",
        ")"
      ],
      "metadata": {
        "colab": {
          "base_uri": "https://localhost:8080/"
        },
        "id": "LLlpFTnWJYck",
        "outputId": "80ca2227-cfbf-4c12-a229-c83771aaf28e"
      },
      "execution_count": 6,
      "outputs": [
        {
          "output_type": "stream",
          "name": "stdout",
          "text": [
            "Epoch 1/10\n",
            "28/32 [=========================>....] - ETA: 0s - loss: 1.1672 - sparse_categorical_accuracy: 0.6696\n",
            "Epoch 1: saving model to training_1/ckpt\n",
            "32/32 [==============================] - 1s 17ms/step - loss: 1.1217 - sparse_categorical_accuracy: 0.6810 - val_loss: 0.7091 - val_sparse_categorical_accuracy: 0.7780\n",
            "Epoch 2/10\n",
            "28/32 [=========================>....] - ETA: 0s - loss: 0.4287 - sparse_categorical_accuracy: 0.8795\n",
            "Epoch 2: saving model to training_1/ckpt\n",
            "32/32 [==============================] - 0s 12ms/step - loss: 0.4217 - sparse_categorical_accuracy: 0.8820 - val_loss: 0.5354 - val_sparse_categorical_accuracy: 0.8360\n",
            "Epoch 3/10\n",
            "25/32 [======================>.......] - ETA: 0s - loss: 0.3004 - sparse_categorical_accuracy: 0.9100\n",
            "Epoch 3: saving model to training_1/ckpt\n",
            "32/32 [==============================] - 0s 11ms/step - loss: 0.2988 - sparse_categorical_accuracy: 0.9090 - val_loss: 0.5098 - val_sparse_categorical_accuracy: 0.8360\n",
            "Epoch 4/10\n",
            "25/32 [======================>.......] - ETA: 0s - loss: 0.2233 - sparse_categorical_accuracy: 0.9488\n",
            "Epoch 4: saving model to training_1/ckpt\n",
            "32/32 [==============================] - 0s 15ms/step - loss: 0.2158 - sparse_categorical_accuracy: 0.9520 - val_loss: 0.4598 - val_sparse_categorical_accuracy: 0.8540\n",
            "Epoch 5/10\n",
            "30/32 [===========================>..] - ETA: 0s - loss: 0.1538 - sparse_categorical_accuracy: 0.9635\n",
            "Epoch 5: saving model to training_1/ckpt\n",
            "32/32 [==============================] - 1s 16ms/step - loss: 0.1510 - sparse_categorical_accuracy: 0.9650 - val_loss: 0.4732 - val_sparse_categorical_accuracy: 0.8550\n",
            "Epoch 6/10\n",
            "29/32 [==========================>...] - ETA: 0s - loss: 0.1192 - sparse_categorical_accuracy: 0.9774\n",
            "Epoch 6: saving model to training_1/ckpt\n",
            "32/32 [==============================] - 1s 19ms/step - loss: 0.1182 - sparse_categorical_accuracy: 0.9770 - val_loss: 0.4388 - val_sparse_categorical_accuracy: 0.8590\n",
            "Epoch 7/10\n",
            "31/32 [============================>.] - ETA: 0s - loss: 0.0898 - sparse_categorical_accuracy: 0.9859\n",
            "Epoch 7: saving model to training_1/ckpt\n",
            "32/32 [==============================] - 1s 20ms/step - loss: 0.0909 - sparse_categorical_accuracy: 0.9850 - val_loss: 0.4130 - val_sparse_categorical_accuracy: 0.8670\n",
            "Epoch 8/10\n",
            "32/32 [==============================] - ETA: 0s - loss: 0.0693 - sparse_categorical_accuracy: 0.9920\n",
            "Epoch 8: saving model to training_1/ckpt\n",
            "32/32 [==============================] - 1s 30ms/step - loss: 0.0693 - sparse_categorical_accuracy: 0.9920 - val_loss: 0.4087 - val_sparse_categorical_accuracy: 0.8650\n",
            "Epoch 9/10\n",
            "28/32 [=========================>....] - ETA: 0s - loss: 0.0496 - sparse_categorical_accuracy: 0.9978\n",
            "Epoch 9: saving model to training_1/ckpt\n",
            "32/32 [==============================] - 1s 26ms/step - loss: 0.0482 - sparse_categorical_accuracy: 0.9980 - val_loss: 0.4028 - val_sparse_categorical_accuracy: 0.8690\n",
            "Epoch 10/10\n",
            "31/32 [============================>.] - ETA: 0s - loss: 0.0377 - sparse_categorical_accuracy: 0.9990\n",
            "Epoch 10: saving model to training_1/ckpt\n",
            "32/32 [==============================] - 1s 17ms/step - loss: 0.0375 - sparse_categorical_accuracy: 0.9990 - val_loss: 0.3959 - val_sparse_categorical_accuracy: 0.8760\n"
          ]
        },
        {
          "output_type": "execute_result",
          "data": {
            "text/plain": [
              "<keras.callbacks.History at 0x7f66a645c490>"
            ]
          },
          "metadata": {},
          "execution_count": 6
        }
      ]
    },
    {
      "cell_type": "code",
      "source": [
        "os.listdir(checkpoint_dir)"
      ],
      "metadata": {
        "colab": {
          "base_uri": "https://localhost:8080/"
        },
        "id": "zck-qS-yKZ0j",
        "outputId": "d05fabb3-a81c-4ea1-caf1-b78440bc3cdc"
      },
      "execution_count": 7,
      "outputs": [
        {
          "output_type": "execute_result",
          "data": {
            "text/plain": [
              "['ckpt.index', 'checkpoint', 'ckpt.data-00000-of-00001']"
            ]
          },
          "metadata": {},
          "execution_count": 7
        }
      ]
    },
    {
      "cell_type": "code",
      "source": [
        "model = create_model()\n",
        "\n",
        "loss, acc = model.evaluate(test_images, test_labels, verbose=2)\n",
        "print(f\"Untrained model, accuracy: {acc * 100}%\")"
      ],
      "metadata": {
        "colab": {
          "base_uri": "https://localhost:8080/"
        },
        "id": "A8a-TnZbKgV6",
        "outputId": "b2e89313-58f7-4b04-fe0d-8e11791c1118"
      },
      "execution_count": 8,
      "outputs": [
        {
          "output_type": "stream",
          "name": "stdout",
          "text": [
            "32/32 - 0s - loss: 2.3224 - sparse_categorical_accuracy: 0.1030 - 312ms/epoch - 10ms/step\n",
            "Untrained model, accuracy: 10.300000011920929%\n"
          ]
        }
      ]
    },
    {
      "cell_type": "code",
      "source": [
        "model.load_weights(checkpoint_path)\n",
        "\n",
        "loss, acc = model.evaluate(test_images, test_labels, verbose=2)\n",
        "print(f\"Loaded model, accuracy: {acc * 100}%\")"
      ],
      "metadata": {
        "id": "z985OJgwK-vy",
        "colab": {
          "base_uri": "https://localhost:8080/"
        },
        "outputId": "8008a4e0-56e6-49f7-bd3b-beff93d1b4ec"
      },
      "execution_count": 9,
      "outputs": [
        {
          "output_type": "stream",
          "name": "stdout",
          "text": [
            "32/32 - 0s - loss: 0.3959 - sparse_categorical_accuracy: 0.8760 - 178ms/epoch - 6ms/step\n",
            "Loaded model, accuracy: 87.59999871253967%\n"
          ]
        }
      ]
    },
    {
      "cell_type": "code",
      "source": [
        "checkpoint_path = \"training_2/cp-{epoch:04d}.ckpt\"\n",
        "checkpoint_dir = os.path.dirname(checkpoint_path)\n",
        "\n",
        "BATCH_SIZE = 32\n",
        "\n",
        "cp_callback = tf.keras.callbacks.ModelCheckpoint(\n",
        "    filepath=checkpoint_path,\n",
        "    verbose=1,\n",
        "    save_weights_only=True,\n",
        "    save_freq= 5 * BATCH_SIZE\n",
        ")\n",
        "\n",
        "model = create_model()"
      ],
      "metadata": {
        "id": "b-GvG7PeNOMW"
      },
      "execution_count": 10,
      "outputs": []
    },
    {
      "cell_type": "code",
      "source": [
        "model.save_weights(checkpoint_path.format(epoch=0))\n",
        "\n",
        "model.fit(\n",
        "    train_images,\n",
        "    train_labels,\n",
        "    epochs = 50,\n",
        "    batch_size = BATCH_SIZE,\n",
        "    callbacks=[cp_callback],\n",
        "    validation_data=(test_images, test_labels),\n",
        "    verbose=0\n",
        ")"
      ],
      "metadata": {
        "id": "IA0S9qtuNvIO",
        "colab": {
          "base_uri": "https://localhost:8080/"
        },
        "outputId": "c7d23502-9cdd-4dff-fc1a-17adf1e140a5"
      },
      "execution_count": 11,
      "outputs": [
        {
          "output_type": "stream",
          "name": "stdout",
          "text": [
            "\n",
            "Epoch 5: saving model to training_2/cp-0005.ckpt\n",
            "\n",
            "Epoch 10: saving model to training_2/cp-0010.ckpt\n",
            "\n",
            "Epoch 15: saving model to training_2/cp-0015.ckpt\n",
            "\n",
            "Epoch 20: saving model to training_2/cp-0020.ckpt\n",
            "\n",
            "Epoch 25: saving model to training_2/cp-0025.ckpt\n",
            "\n",
            "Epoch 30: saving model to training_2/cp-0030.ckpt\n",
            "\n",
            "Epoch 35: saving model to training_2/cp-0035.ckpt\n",
            "\n",
            "Epoch 40: saving model to training_2/cp-0040.ckpt\n",
            "\n",
            "Epoch 45: saving model to training_2/cp-0045.ckpt\n",
            "\n",
            "Epoch 50: saving model to training_2/cp-0050.ckpt\n"
          ]
        },
        {
          "output_type": "execute_result",
          "data": {
            "text/plain": [
              "<keras.callbacks.History at 0x7f66a2139e50>"
            ]
          },
          "metadata": {},
          "execution_count": 11
        }
      ]
    },
    {
      "cell_type": "code",
      "source": [
        "os.listdir(checkpoint_dir)"
      ],
      "metadata": {
        "colab": {
          "base_uri": "https://localhost:8080/"
        },
        "id": "vTiV54sUohDe",
        "outputId": "a5b704d4-1468-4e31-e127-95c02370a8b3"
      },
      "execution_count": 12,
      "outputs": [
        {
          "output_type": "execute_result",
          "data": {
            "text/plain": [
              "['cp-0030.ckpt.index',\n",
              " 'cp-0015.ckpt.index',\n",
              " 'cp-0020.ckpt.data-00000-of-00001',\n",
              " 'cp-0025.ckpt.index',\n",
              " 'cp-0030.ckpt.data-00000-of-00001',\n",
              " 'cp-0025.ckpt.data-00000-of-00001',\n",
              " 'cp-0035.ckpt.index',\n",
              " 'cp-0000.ckpt.index',\n",
              " 'cp-0045.ckpt.index',\n",
              " 'cp-0000.ckpt.data-00000-of-00001',\n",
              " 'checkpoint',\n",
              " 'cp-0020.ckpt.index',\n",
              " 'cp-0010.ckpt.data-00000-of-00001',\n",
              " 'cp-0050.ckpt.index',\n",
              " 'cp-0005.ckpt.index',\n",
              " 'cp-0040.ckpt.data-00000-of-00001',\n",
              " 'cp-0045.ckpt.data-00000-of-00001',\n",
              " 'cp-0010.ckpt.index',\n",
              " 'cp-0035.ckpt.data-00000-of-00001',\n",
              " 'cp-0015.ckpt.data-00000-of-00001',\n",
              " 'cp-0040.ckpt.index',\n",
              " 'cp-0050.ckpt.data-00000-of-00001',\n",
              " 'cp-0005.ckpt.data-00000-of-00001']"
            ]
          },
          "metadata": {},
          "execution_count": 12
        }
      ]
    },
    {
      "cell_type": "code",
      "source": [
        "latest = tf.train.latest_checkpoint(checkpoint_dir)\n",
        "latest"
      ],
      "metadata": {
        "colab": {
          "base_uri": "https://localhost:8080/",
          "height": 35
        },
        "id": "X8mtwXIfooCm",
        "outputId": "f7ece738-e063-4260-cbca-a1f2a9234b40"
      },
      "execution_count": 15,
      "outputs": [
        {
          "output_type": "execute_result",
          "data": {
            "text/plain": [
              "'training_2/cp-0050.ckpt'"
            ],
            "application/vnd.google.colaboratory.intrinsic+json": {
              "type": "string"
            }
          },
          "metadata": {},
          "execution_count": 15
        }
      ]
    },
    {
      "cell_type": "code",
      "source": [
        "model = create_model()\n",
        "\n",
        "model.load_weights(latest)\n",
        "\n",
        "loss, acc = model.evaluate(test_images, test_labels, verbose=2)\n",
        "print(f\"Restored model, accuracy: {acc * 100}%\")"
      ],
      "metadata": {
        "colab": {
          "base_uri": "https://localhost:8080/"
        },
        "id": "348pKwlsoyBu",
        "outputId": "46c60386-e9f1-41ee-b466-95bd28e723e7"
      },
      "execution_count": 20,
      "outputs": [
        {
          "output_type": "stream",
          "name": "stdout",
          "text": [
            "32/32 - 0s - loss: 0.4970 - sparse_categorical_accuracy: 0.8770 - 223ms/epoch - 7ms/step\n",
            "Restored model, accuracy: 87.69999742507935%\n"
          ]
        }
      ]
    },
    {
      "cell_type": "code",
      "source": [
        "model.save_weights('./checkpoints/my_checkpoint')\n",
        "\n",
        "model = create_model()\n",
        "\n",
        "model.load_weights('./checkpoints/my_checkpoint')\n",
        "\n",
        "loss, acc = model.evaluate(test_images, test_labels, verbose=2)\n",
        "\n",
        "print(f\"Restored model, accuracy: {acc * 100}%\")"
      ],
      "metadata": {
        "colab": {
          "base_uri": "https://localhost:8080/"
        },
        "id": "yd-rB2nUpzzG",
        "outputId": "eed9a0b9-d38c-43f8-b8bc-e329872e97a7"
      },
      "execution_count": 21,
      "outputs": [
        {
          "output_type": "stream",
          "name": "stdout",
          "text": [
            "32/32 - 0s - loss: 0.4970 - sparse_categorical_accuracy: 0.8770 - 219ms/epoch - 7ms/step\n",
            "Restored model, accuracy: 87.69999742507935%\n"
          ]
        }
      ]
    },
    {
      "cell_type": "code",
      "source": [
        "model = create_model()\n",
        "model.fit(train_images, train_labels, epochs=5)\n",
        "\n",
        "!mkdir -p saved_model\n",
        "model.save('saved_model/my_model')"
      ],
      "metadata": {
        "colab": {
          "base_uri": "https://localhost:8080/"
        },
        "id": "ZVy83MKHq04P",
        "outputId": "01658f79-596b-4423-9394-61c058d27de3"
      },
      "execution_count": 22,
      "outputs": [
        {
          "output_type": "stream",
          "name": "stdout",
          "text": [
            "Epoch 1/5\n",
            "32/32 [==============================] - 1s 6ms/step - loss: 1.1622 - sparse_categorical_accuracy: 0.6610\n",
            "Epoch 2/5\n",
            "32/32 [==============================] - 0s 6ms/step - loss: 0.4098 - sparse_categorical_accuracy: 0.8820\n",
            "Epoch 3/5\n",
            "32/32 [==============================] - 0s 7ms/step - loss: 0.2840 - sparse_categorical_accuracy: 0.9280\n",
            "Epoch 4/5\n",
            "32/32 [==============================] - 0s 7ms/step - loss: 0.2053 - sparse_categorical_accuracy: 0.9450\n",
            "Epoch 5/5\n",
            "32/32 [==============================] - 0s 7ms/step - loss: 0.1482 - sparse_categorical_accuracy: 0.9670\n"
          ]
        },
        {
          "output_type": "stream",
          "name": "stderr",
          "text": [
            "WARNING:tensorflow:Detecting that an object or model or tf.train.Checkpoint is being deleted with unrestored values. See the following logs for the specific values in question. To silence these warnings, use `status.expect_partial()`. See https://www.tensorflow.org/api_docs/python/tf/train/Checkpoint#restorefor details about the status object returned by the restore function.\n",
            "WARNING:tensorflow:Value in checkpoint could not be found in the restored object: (root).optimizer.iter\n",
            "WARNING:tensorflow:Value in checkpoint could not be found in the restored object: (root).optimizer.beta_1\n",
            "WARNING:tensorflow:Value in checkpoint could not be found in the restored object: (root).optimizer.beta_2\n",
            "WARNING:tensorflow:Value in checkpoint could not be found in the restored object: (root).optimizer.decay\n",
            "WARNING:tensorflow:Value in checkpoint could not be found in the restored object: (root).optimizer.learning_rate\n",
            "WARNING:tensorflow:Detecting that an object or model or tf.train.Checkpoint is being deleted with unrestored values. See the following logs for the specific values in question. To silence these warnings, use `status.expect_partial()`. See https://www.tensorflow.org/api_docs/python/tf/train/Checkpoint#restorefor details about the status object returned by the restore function.\n",
            "WARNING:tensorflow:Value in checkpoint could not be found in the restored object: (root).optimizer.iter\n",
            "WARNING:tensorflow:Value in checkpoint could not be found in the restored object: (root).optimizer.beta_1\n",
            "WARNING:tensorflow:Value in checkpoint could not be found in the restored object: (root).optimizer.beta_2\n",
            "WARNING:tensorflow:Value in checkpoint could not be found in the restored object: (root).optimizer.decay\n",
            "WARNING:tensorflow:Value in checkpoint could not be found in the restored object: (root).optimizer.learning_rate\n",
            "WARNING:tensorflow:Detecting that an object or model or tf.train.Checkpoint is being deleted with unrestored values. See the following logs for the specific values in question. To silence these warnings, use `status.expect_partial()`. See https://www.tensorflow.org/api_docs/python/tf/train/Checkpoint#restorefor details about the status object returned by the restore function.\n",
            "WARNING:tensorflow:Value in checkpoint could not be found in the restored object: (root).optimizer.iter\n",
            "WARNING:tensorflow:Value in checkpoint could not be found in the restored object: (root).optimizer.beta_1\n",
            "WARNING:tensorflow:Value in checkpoint could not be found in the restored object: (root).optimizer.beta_2\n",
            "WARNING:tensorflow:Value in checkpoint could not be found in the restored object: (root).optimizer.decay\n",
            "WARNING:tensorflow:Value in checkpoint could not be found in the restored object: (root).optimizer.learning_rate\n"
          ]
        }
      ]
    },
    {
      "cell_type": "code",
      "source": [
        "ls saved_model"
      ],
      "metadata": {
        "colab": {
          "base_uri": "https://localhost:8080/"
        },
        "id": "dCVHz1FDrcHk",
        "outputId": "38589642-84fe-4199-8854-f68b63e06b16"
      },
      "execution_count": 23,
      "outputs": [
        {
          "output_type": "stream",
          "name": "stdout",
          "text": [
            "\u001b[0m\u001b[01;34mmy_model\u001b[0m/\n"
          ]
        }
      ]
    },
    {
      "cell_type": "code",
      "source": [
        "ls saved_model/my_model"
      ],
      "metadata": {
        "colab": {
          "base_uri": "https://localhost:8080/"
        },
        "id": "x_Sof3g5rmkk",
        "outputId": "98c7929a-4f83-4545-f343-e5fac08f9895"
      },
      "execution_count": 24,
      "outputs": [
        {
          "output_type": "stream",
          "name": "stdout",
          "text": [
            "\u001b[0m\u001b[01;34massets\u001b[0m/  keras_metadata.pb  saved_model.pb  \u001b[01;34mvariables\u001b[0m/\n"
          ]
        }
      ]
    },
    {
      "cell_type": "code",
      "source": [
        "new_model = tf.keras.models.load_model(\"saved_model/my_model\")\n",
        "\n",
        "new_model.summary()"
      ],
      "metadata": {
        "colab": {
          "base_uri": "https://localhost:8080/"
        },
        "id": "aRtBK4UirxqF",
        "outputId": "08787ae3-674f-4433-dfdf-b9f10d2494ff"
      },
      "execution_count": 26,
      "outputs": [
        {
          "output_type": "stream",
          "name": "stdout",
          "text": [
            "Model: \"sequential_9\"\n",
            "_________________________________________________________________\n",
            " Layer (type)                Output Shape              Param #   \n",
            "=================================================================\n",
            " dense_18 (Dense)            (None, 512)               401920    \n",
            "                                                                 \n",
            " dropout_9 (Dropout)         (None, 512)               0         \n",
            "                                                                 \n",
            " dense_19 (Dense)            (None, 10)                5130      \n",
            "                                                                 \n",
            "=================================================================\n",
            "Total params: 407,050\n",
            "Trainable params: 407,050\n",
            "Non-trainable params: 0\n",
            "_________________________________________________________________\n"
          ]
        }
      ]
    },
    {
      "cell_type": "code",
      "source": [
        "loss, acc = new_model.evaluate(test_images, test_labels, verbose=2)\n",
        "\n",
        "print(f\"Restored model, accuracy: {acc * 100}%\")\n",
        "\n",
        "print(new_model.predict(test_images).shape)"
      ],
      "metadata": {
        "colab": {
          "base_uri": "https://localhost:8080/"
        },
        "id": "_LSoSDgnsGM2",
        "outputId": "215121d8-a59d-4292-f461-d5441ed353d3"
      },
      "execution_count": 27,
      "outputs": [
        {
          "output_type": "stream",
          "name": "stdout",
          "text": [
            "32/32 - 0s - loss: 0.4142 - sparse_categorical_accuracy: 0.8690 - 187ms/epoch - 6ms/step\n",
            "Restored model, accuracy: 86.90000176429749%\n",
            "(1000, 10)\n"
          ]
        }
      ]
    },
    {
      "cell_type": "code",
      "source": [
        "model = create_model()\n",
        "\n",
        "model.fit(train_images, train_labels, epochs=5)\n",
        "\n",
        "model.save('my_model.h5')"
      ],
      "metadata": {
        "colab": {
          "base_uri": "https://localhost:8080/"
        },
        "id": "vxIwuuN2sqHs",
        "outputId": "e704d7df-80f7-4218-8abb-27ba6d95b177"
      },
      "execution_count": 29,
      "outputs": [
        {
          "output_type": "stream",
          "name": "stdout",
          "text": [
            "Epoch 1/5\n",
            "32/32 [==============================] - 1s 7ms/step - loss: 1.1205 - sparse_categorical_accuracy: 0.6960\n",
            "Epoch 2/5\n",
            "32/32 [==============================] - 0s 6ms/step - loss: 0.4346 - sparse_categorical_accuracy: 0.8800\n",
            "Epoch 3/5\n",
            "32/32 [==============================] - 0s 7ms/step - loss: 0.2769 - sparse_categorical_accuracy: 0.9250\n",
            "Epoch 4/5\n",
            "32/32 [==============================] - 0s 6ms/step - loss: 0.2080 - sparse_categorical_accuracy: 0.9560\n",
            "Epoch 5/5\n",
            "32/32 [==============================] - 0s 6ms/step - loss: 0.1534 - sparse_categorical_accuracy: 0.9730\n"
          ]
        }
      ]
    },
    {
      "cell_type": "code",
      "source": [
        "new_model = tf.keras.models.load_model('my_model.h5')\n",
        "\n",
        "new_model.summary()"
      ],
      "metadata": {
        "colab": {
          "base_uri": "https://localhost:8080/"
        },
        "id": "3bKSNFiVtQp8",
        "outputId": "d8f0e59b-0fe6-4f8a-c831-d19e9ca7c6d8"
      },
      "execution_count": 30,
      "outputs": [
        {
          "output_type": "stream",
          "name": "stdout",
          "text": [
            "Model: \"sequential_11\"\n",
            "_________________________________________________________________\n",
            " Layer (type)                Output Shape              Param #   \n",
            "=================================================================\n",
            " dense_22 (Dense)            (None, 512)               401920    \n",
            "                                                                 \n",
            " dropout_11 (Dropout)        (None, 512)               0         \n",
            "                                                                 \n",
            " dense_23 (Dense)            (None, 10)                5130      \n",
            "                                                                 \n",
            "=================================================================\n",
            "Total params: 407,050\n",
            "Trainable params: 407,050\n",
            "Non-trainable params: 0\n",
            "_________________________________________________________________\n"
          ]
        }
      ]
    },
    {
      "cell_type": "code",
      "source": [
        "loss, acc = new_model.evaluate(test_images, test_labels, verbose=2)\n",
        "print(f\"Restored model, accuracy: {acc * 100}%\")"
      ],
      "metadata": {
        "colab": {
          "base_uri": "https://localhost:8080/"
        },
        "id": "s2aN_t47tbud",
        "outputId": "22f4c667-b656-46bb-9cd8-e3c6c344572c"
      },
      "execution_count": 31,
      "outputs": [
        {
          "output_type": "stream",
          "name": "stdout",
          "text": [
            "32/32 - 0s - loss: 0.4217 - sparse_categorical_accuracy: 0.8620 - 184ms/epoch - 6ms/step\n",
            "Restored model, accuracy: 86.19999885559082%\n"
          ]
        }
      ]
    }
  ]
}