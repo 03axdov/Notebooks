{
  "nbformat": 4,
  "nbformat_minor": 0,
  "metadata": {
    "colab": {
      "provenance": [],
      "authorship_tag": "ABX9TyMvxuMqpBiLfpR42HRPiiIU",
      "include_colab_link": true
    },
    "kernelspec": {
      "name": "python3",
      "display_name": "Python 3"
    },
    "language_info": {
      "name": "python"
    }
  },
  "cells": [
    {
      "cell_type": "markdown",
      "metadata": {
        "id": "view-in-github",
        "colab_type": "text"
      },
      "source": [
        "<a href=\"https://colab.research.google.com/github/03axdov/Notebooks/blob/main/KerasTuner.ipynb\" target=\"_parent\"><img src=\"https://colab.research.google.com/assets/colab-badge.svg\" alt=\"Open In Colab\"/></a>"
      ]
    },
    {
      "cell_type": "code",
      "execution_count": 1,
      "metadata": {
        "id": "MMF_mdBHuNyw"
      },
      "outputs": [],
      "source": [
        "import tensorflow as tf\n",
        "from tensorflow import keras"
      ]
    },
    {
      "cell_type": "code",
      "source": [
        "pip install -q -U keras-tuner"
      ],
      "metadata": {
        "colab": {
          "base_uri": "https://localhost:8080/"
        },
        "id": "LPDIEUUWvWij",
        "outputId": "75c16897-2f6e-40b0-c768-27aa9dc4943b"
      },
      "execution_count": 2,
      "outputs": [
        {
          "output_type": "stream",
          "name": "stdout",
          "text": [
            "\u001b[K     |████████████████████████████████| 135 kB 7.5 MB/s \n",
            "\u001b[K     |████████████████████████████████| 1.6 MB 45.0 MB/s \n",
            "\u001b[?25h"
          ]
        }
      ]
    },
    {
      "cell_type": "code",
      "source": [
        "import keras_tuner as kt"
      ],
      "metadata": {
        "id": "8QJMm-Auvayj"
      },
      "execution_count": 3,
      "outputs": []
    },
    {
      "cell_type": "code",
      "source": [
        "(train_images, train_labels), (test_images, test_labels) = tf.keras.datasets.fashion_mnist.load_data()"
      ],
      "metadata": {
        "colab": {
          "base_uri": "https://localhost:8080/"
        },
        "id": "tLU5H4xivjPi",
        "outputId": "df98c2e0-5087-4ce2-eda4-8b72aed2ad8f"
      },
      "execution_count": 4,
      "outputs": [
        {
          "output_type": "stream",
          "name": "stdout",
          "text": [
            "Downloading data from https://storage.googleapis.com/tensorflow/tf-keras-datasets/train-labels-idx1-ubyte.gz\n",
            "32768/29515 [=================================] - 0s 0us/step\n",
            "40960/29515 [=========================================] - 0s 0us/step\n",
            "Downloading data from https://storage.googleapis.com/tensorflow/tf-keras-datasets/train-images-idx3-ubyte.gz\n",
            "26427392/26421880 [==============================] - 0s 0us/step\n",
            "26435584/26421880 [==============================] - 0s 0us/step\n",
            "Downloading data from https://storage.googleapis.com/tensorflow/tf-keras-datasets/t10k-labels-idx1-ubyte.gz\n",
            "16384/5148 [===============================================================================================] - 0s 0us/step\n",
            "Downloading data from https://storage.googleapis.com/tensorflow/tf-keras-datasets/t10k-images-idx3-ubyte.gz\n",
            "4423680/4422102 [==============================] - 0s 0us/step\n",
            "4431872/4422102 [==============================] - 0s 0us/step\n"
          ]
        }
      ]
    },
    {
      "cell_type": "code",
      "source": [
        "train_images = train_images.astype(\"float32\") / 255.0\n",
        "test_images = test_images.astype(\"float32\") / 255.0"
      ],
      "metadata": {
        "id": "g0lEF7kGvsMb"
      },
      "execution_count": 5,
      "outputs": []
    },
    {
      "cell_type": "code",
      "source": [
        "def create_model(hp):\n",
        "  hp_units = hp.Int('units', min_value=32, max_value=512, step=32)\n",
        "  model = keras.Sequential([\n",
        "      keras.layers.Flatten(input_shape=(28, 28)),\n",
        "      keras.layers.Dense(units=hp_units, activation=\"relu\"),\n",
        "      keras.layers.Dense(10)\n",
        "  ])\n",
        "\n",
        "  hp_learning_rate = hp.Choice('learning_rate', values=[1e-2, 1e-3, 1e-4])\n",
        "  model.compile(\n",
        "      optimizer = keras.optimizers.Adam(learning_rate = hp_learning_rate),\n",
        "      loss = keras.losses.SparseCategoricalCrossentropy(from_logits=True),\n",
        "      metrics=[\"accuracy\"]\n",
        "  )\n",
        "\n",
        "  return model"
      ],
      "metadata": {
        "id": "s3RIB6Yav3HJ"
      },
      "execution_count": 6,
      "outputs": []
    },
    {
      "cell_type": "code",
      "source": [
        "tuner = kt.Hyperband(create_model,\n",
        "                     objective=\"val_accuracy\",\n",
        "                     max_epochs=10,\n",
        "                     factor=3,\n",
        "                     directory=\"my_dir\",\n",
        "                     project_name=\"intro_to_kt\")"
      ],
      "metadata": {
        "id": "NrtXvE84xQvS"
      },
      "execution_count": 7,
      "outputs": []
    },
    {
      "cell_type": "code",
      "source": [
        "cp = tf.keras.callbacks.EarlyStopping(monitor=\"val_loss\", patience=5)"
      ],
      "metadata": {
        "id": "P2iCkszNxsKh"
      },
      "execution_count": 8,
      "outputs": []
    },
    {
      "cell_type": "code",
      "source": [
        "tuner.search(train_images, train_labels, epochs=50, validation_split=0.2, callbacks=[cp])\n",
        "\n",
        "best_hps = tuner.get_best_hyperparameters(num_trials=1)[0]\n",
        "                                                        \n",
        "print(f\"\"\"\n",
        "The hyperparameter search is complete. The optimal number of units in the first densely-connected\n",
        "layer is {best_hps.get('units')} and the optimal learning rate for the optimizer\n",
        "is {best_hps.get('learning_rate')}.\n",
        "\"\"\")"
      ],
      "metadata": {
        "colab": {
          "base_uri": "https://localhost:8080/"
        },
        "id": "HG35b7aux1HC",
        "outputId": "7355bd68-0c3f-4160-fafa-074027bde34d"
      },
      "execution_count": 9,
      "outputs": [
        {
          "output_type": "stream",
          "name": "stdout",
          "text": [
            "Trial 30 Complete [00h 01m 19s]\n",
            "val_accuracy: 0.8832499980926514\n",
            "\n",
            "Best val_accuracy So Far: 0.8915833234786987\n",
            "Total elapsed time: 00h 15m 16s\n",
            "\n",
            "The hyperparameter search is complete. The optimal number of units in the first densely-connected\n",
            "layer is 480 and the optimal learning rate for the optimizer\n",
            "is 0.001.\n",
            "\n"
          ]
        }
      ]
    },
    {
      "cell_type": "code",
      "source": [
        "model = tuner.hypermodel.build(best_hps)\n",
        "history = model.fit(train_images, train_labels, epochs=50, validation_split=0.2)\n",
        "\n",
        "val_acc_per_epoch = history.history['val_accuracy']\n",
        "best_epoch = val_acc_per_epoch.index(max(val_acc_per_epoch)) + 1\n",
        "print(f\"Best epoch: {best_epoch}\")"
      ],
      "metadata": {
        "colab": {
          "base_uri": "https://localhost:8080/"
        },
        "id": "tKIzv0km0gJZ",
        "outputId": "14dd50bf-69b3-4cef-c7bb-96dda3589c54"
      },
      "execution_count": 10,
      "outputs": [
        {
          "output_type": "stream",
          "name": "stdout",
          "text": [
            "Epoch 1/50\n",
            "1500/1500 [==============================] - 8s 5ms/step - loss: 0.4902 - accuracy: 0.8253 - val_loss: 0.4060 - val_accuracy: 0.8522\n",
            "Epoch 2/50\n",
            "1500/1500 [==============================] - 8s 5ms/step - loss: 0.3704 - accuracy: 0.8666 - val_loss: 0.4185 - val_accuracy: 0.8388\n",
            "Epoch 3/50\n",
            "1500/1500 [==============================] - 8s 5ms/step - loss: 0.3286 - accuracy: 0.8789 - val_loss: 0.3384 - val_accuracy: 0.8763\n",
            "Epoch 4/50\n",
            "1500/1500 [==============================] - 7s 5ms/step - loss: 0.3053 - accuracy: 0.8861 - val_loss: 0.3715 - val_accuracy: 0.8608\n",
            "Epoch 5/50\n",
            "1500/1500 [==============================] - 8s 5ms/step - loss: 0.2858 - accuracy: 0.8948 - val_loss: 0.3266 - val_accuracy: 0.8807\n",
            "Epoch 6/50\n",
            "1500/1500 [==============================] - 7s 5ms/step - loss: 0.2693 - accuracy: 0.9011 - val_loss: 0.3445 - val_accuracy: 0.8750\n",
            "Epoch 7/50\n",
            "1500/1500 [==============================] - 8s 5ms/step - loss: 0.2579 - accuracy: 0.9023 - val_loss: 0.3134 - val_accuracy: 0.8896\n",
            "Epoch 8/50\n",
            "1500/1500 [==============================] - 7s 5ms/step - loss: 0.2408 - accuracy: 0.9097 - val_loss: 0.3208 - val_accuracy: 0.8853\n",
            "Epoch 9/50\n",
            "1500/1500 [==============================] - 7s 5ms/step - loss: 0.2335 - accuracy: 0.9125 - val_loss: 0.3273 - val_accuracy: 0.8864\n",
            "Epoch 10/50\n",
            "1500/1500 [==============================] - 7s 5ms/step - loss: 0.2238 - accuracy: 0.9175 - val_loss: 0.3781 - val_accuracy: 0.8727\n",
            "Epoch 11/50\n",
            "1500/1500 [==============================] - 7s 5ms/step - loss: 0.2168 - accuracy: 0.9186 - val_loss: 0.3341 - val_accuracy: 0.8857\n",
            "Epoch 12/50\n",
            "1500/1500 [==============================] - 8s 5ms/step - loss: 0.2061 - accuracy: 0.9232 - val_loss: 0.3292 - val_accuracy: 0.8910\n",
            "Epoch 13/50\n",
            "1500/1500 [==============================] - 7s 5ms/step - loss: 0.1984 - accuracy: 0.9255 - val_loss: 0.3336 - val_accuracy: 0.8855\n",
            "Epoch 14/50\n",
            "1500/1500 [==============================] - 8s 5ms/step - loss: 0.1919 - accuracy: 0.9280 - val_loss: 0.3274 - val_accuracy: 0.8906\n",
            "Epoch 15/50\n",
            "1500/1500 [==============================] - 8s 5ms/step - loss: 0.1833 - accuracy: 0.9307 - val_loss: 0.3243 - val_accuracy: 0.8928\n",
            "Epoch 16/50\n",
            "1500/1500 [==============================] - 7s 5ms/step - loss: 0.1789 - accuracy: 0.9328 - val_loss: 0.3208 - val_accuracy: 0.8948\n",
            "Epoch 17/50\n",
            "1500/1500 [==============================] - 8s 5ms/step - loss: 0.1712 - accuracy: 0.9350 - val_loss: 0.3362 - val_accuracy: 0.8938\n",
            "Epoch 18/50\n",
            "1500/1500 [==============================] - 7s 5ms/step - loss: 0.1654 - accuracy: 0.9371 - val_loss: 0.3292 - val_accuracy: 0.8934\n",
            "Epoch 19/50\n",
            "1500/1500 [==============================] - 8s 5ms/step - loss: 0.1617 - accuracy: 0.9400 - val_loss: 0.3309 - val_accuracy: 0.8978\n",
            "Epoch 20/50\n",
            "1500/1500 [==============================] - 7s 5ms/step - loss: 0.1540 - accuracy: 0.9419 - val_loss: 0.3551 - val_accuracy: 0.8917\n",
            "Epoch 21/50\n",
            "1500/1500 [==============================] - 8s 5ms/step - loss: 0.1501 - accuracy: 0.9429 - val_loss: 0.3707 - val_accuracy: 0.8871\n",
            "Epoch 22/50\n",
            "1500/1500 [==============================] - 8s 5ms/step - loss: 0.1486 - accuracy: 0.9446 - val_loss: 0.3687 - val_accuracy: 0.8908\n",
            "Epoch 23/50\n",
            "1500/1500 [==============================] - 8s 5ms/step - loss: 0.1423 - accuracy: 0.9459 - val_loss: 0.3580 - val_accuracy: 0.8948\n",
            "Epoch 24/50\n",
            "1500/1500 [==============================] - 7s 5ms/step - loss: 0.1390 - accuracy: 0.9476 - val_loss: 0.3673 - val_accuracy: 0.8913\n",
            "Epoch 25/50\n",
            "1500/1500 [==============================] - 7s 5ms/step - loss: 0.1341 - accuracy: 0.9495 - val_loss: 0.3770 - val_accuracy: 0.8895\n",
            "Epoch 26/50\n",
            "1500/1500 [==============================] - 8s 5ms/step - loss: 0.1316 - accuracy: 0.9499 - val_loss: 0.3744 - val_accuracy: 0.8939\n",
            "Epoch 27/50\n",
            "1500/1500 [==============================] - 8s 5ms/step - loss: 0.1283 - accuracy: 0.9518 - val_loss: 0.4052 - val_accuracy: 0.8873\n",
            "Epoch 28/50\n",
            "1500/1500 [==============================] - 7s 5ms/step - loss: 0.1269 - accuracy: 0.9520 - val_loss: 0.4036 - val_accuracy: 0.8883\n",
            "Epoch 29/50\n",
            "1500/1500 [==============================] - 7s 5ms/step - loss: 0.1167 - accuracy: 0.9560 - val_loss: 0.4131 - val_accuracy: 0.8905\n",
            "Epoch 30/50\n",
            "1500/1500 [==============================] - 7s 5ms/step - loss: 0.1184 - accuracy: 0.9558 - val_loss: 0.4105 - val_accuracy: 0.8907\n",
            "Epoch 31/50\n",
            "1500/1500 [==============================] - 8s 5ms/step - loss: 0.1132 - accuracy: 0.9563 - val_loss: 0.4297 - val_accuracy: 0.8908\n",
            "Epoch 32/50\n",
            "1500/1500 [==============================] - 7s 5ms/step - loss: 0.1104 - accuracy: 0.9580 - val_loss: 0.4279 - val_accuracy: 0.8943\n",
            "Epoch 33/50\n",
            "1500/1500 [==============================] - 8s 5ms/step - loss: 0.1080 - accuracy: 0.9589 - val_loss: 0.4433 - val_accuracy: 0.8906\n",
            "Epoch 34/50\n",
            "1500/1500 [==============================] - 8s 5ms/step - loss: 0.1093 - accuracy: 0.9586 - val_loss: 0.4360 - val_accuracy: 0.8950\n",
            "Epoch 35/50\n",
            "1500/1500 [==============================] - 7s 5ms/step - loss: 0.1055 - accuracy: 0.9602 - val_loss: 0.4226 - val_accuracy: 0.8934\n",
            "Epoch 36/50\n",
            "1500/1500 [==============================] - 8s 5ms/step - loss: 0.0981 - accuracy: 0.9626 - val_loss: 0.4708 - val_accuracy: 0.8930\n",
            "Epoch 37/50\n",
            "1500/1500 [==============================] - 8s 5ms/step - loss: 0.1015 - accuracy: 0.9621 - val_loss: 0.4928 - val_accuracy: 0.8908\n",
            "Epoch 38/50\n",
            "1500/1500 [==============================] - 8s 5ms/step - loss: 0.0980 - accuracy: 0.9631 - val_loss: 0.4449 - val_accuracy: 0.8918\n",
            "Epoch 39/50\n",
            "1500/1500 [==============================] - 7s 5ms/step - loss: 0.0939 - accuracy: 0.9649 - val_loss: 0.4841 - val_accuracy: 0.8866\n",
            "Epoch 40/50\n",
            "1500/1500 [==============================] - 7s 5ms/step - loss: 0.0914 - accuracy: 0.9657 - val_loss: 0.4457 - val_accuracy: 0.8957\n",
            "Epoch 41/50\n",
            "1500/1500 [==============================] - 8s 5ms/step - loss: 0.0902 - accuracy: 0.9665 - val_loss: 0.4640 - val_accuracy: 0.8953\n",
            "Epoch 42/50\n",
            "1500/1500 [==============================] - 8s 5ms/step - loss: 0.0893 - accuracy: 0.9665 - val_loss: 0.5016 - val_accuracy: 0.8906\n",
            "Epoch 43/50\n",
            "1500/1500 [==============================] - 8s 5ms/step - loss: 0.0863 - accuracy: 0.9674 - val_loss: 0.5048 - val_accuracy: 0.8917\n",
            "Epoch 44/50\n",
            "1500/1500 [==============================] - 8s 5ms/step - loss: 0.0855 - accuracy: 0.9676 - val_loss: 0.5032 - val_accuracy: 0.8947\n",
            "Epoch 45/50\n",
            "1500/1500 [==============================] - 7s 5ms/step - loss: 0.0847 - accuracy: 0.9683 - val_loss: 0.5236 - val_accuracy: 0.8914\n",
            "Epoch 46/50\n",
            "1500/1500 [==============================] - 7s 5ms/step - loss: 0.0822 - accuracy: 0.9693 - val_loss: 0.5014 - val_accuracy: 0.8944\n",
            "Epoch 47/50\n",
            "1500/1500 [==============================] - 8s 5ms/step - loss: 0.0782 - accuracy: 0.9710 - val_loss: 0.5095 - val_accuracy: 0.8923\n",
            "Epoch 48/50\n",
            "1500/1500 [==============================] - 8s 5ms/step - loss: 0.0800 - accuracy: 0.9699 - val_loss: 0.5102 - val_accuracy: 0.8915\n",
            "Epoch 49/50\n",
            "1500/1500 [==============================] - 7s 5ms/step - loss: 0.0748 - accuracy: 0.9714 - val_loss: 0.5513 - val_accuracy: 0.8885\n",
            "Epoch 50/50\n",
            "1500/1500 [==============================] - 8s 5ms/step - loss: 0.0742 - accuracy: 0.9727 - val_loss: 0.5203 - val_accuracy: 0.8923\n",
            "Best epoch: 19\n"
          ]
        }
      ]
    },
    {
      "cell_type": "code",
      "source": [
        "loss, acc = model.evaluate(test_images, test_labels)"
      ],
      "metadata": {
        "colab": {
          "base_uri": "https://localhost:8080/"
        },
        "id": "aD7dP3gx07iQ",
        "outputId": "2b0f6811-4b84-45d1-ac75-1ca94a261fe6"
      },
      "execution_count": 11,
      "outputs": [
        {
          "output_type": "stream",
          "name": "stdout",
          "text": [
            "313/313 [==============================] - 1s 3ms/step - loss: 0.5922 - accuracy: 0.8865\n"
          ]
        }
      ]
    }
  ]
}