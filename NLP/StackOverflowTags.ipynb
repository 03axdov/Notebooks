{
  "nbformat": 4,
  "nbformat_minor": 0,
  "metadata": {
    "colab": {
      "provenance": [],
      "authorship_tag": "ABX9TyP8hwVIg2Q+3UOmSyt9+jus",
      "include_colab_link": true
    },
    "kernelspec": {
      "name": "python3",
      "display_name": "Python 3"
    },
    "language_info": {
      "name": "python"
    }
  },
  "cells": [
    {
      "cell_type": "markdown",
      "metadata": {
        "id": "view-in-github",
        "colab_type": "text"
      },
      "source": [
        "<a href=\"https://colab.research.google.com/github/03axdov/Notebooks/blob/main/StackOverflowTags.ipynb\" target=\"_parent\"><img src=\"https://colab.research.google.com/assets/colab-badge.svg\" alt=\"Open In Colab\"/></a>"
      ]
    },
    {
      "cell_type": "code",
      "execution_count": 1,
      "metadata": {
        "id": "1UVsTFhbTyR_"
      },
      "outputs": [],
      "source": [
        "import tensorflow as tf\n",
        "import os"
      ]
    },
    {
      "cell_type": "code",
      "source": [
        "URL = \"https://storage.googleapis.com/download.tensorflow.org/data/stack_overflow_16k.tar.gz\"\n",
        "dataset = tf.keras.utils.get_file(\n",
        "    'stackoverflow',\n",
        "    origin=URL,\n",
        "    extract=True,\n",
        "    cache_dir=\".\",\n",
        "    cache_subdir=\"\"\n",
        ")"
      ],
      "metadata": {
        "colab": {
          "base_uri": "https://localhost:8080/"
        },
        "id": "FFr0bzvLUCld",
        "outputId": "d896bc19-d399-4abb-e48a-b72253da2075"
      },
      "execution_count": 2,
      "outputs": [
        {
          "output_type": "stream",
          "name": "stdout",
          "text": [
            "Downloading data from https://storage.googleapis.com/download.tensorflow.org/data/stack_overflow_16k.tar.gz\n",
            "6053888/6053168 [==============================] - 0s 0us/step\n",
            "6062080/6053168 [==============================] - 0s 0us/step\n"
          ]
        }
      ]
    },
    {
      "cell_type": "code",
      "source": [
        "!ls -l"
      ],
      "metadata": {
        "id": "GZI52S7dWqCt",
        "outputId": "f194debf-bba3-4b00-b626-811afdef0f4a",
        "colab": {
          "base_uri": "https://localhost:8080/"
        }
      },
      "execution_count": 3,
      "outputs": [
        {
          "output_type": "stream",
          "name": "stdout",
          "text": [
            "total 5928\n",
            "-rw-r--r-- 1 206704 89939     529 Jul  8  2020 README.md\n",
            "drwxr-xr-x 1 root   root     4096 Sep 14 13:44 sample_data\n",
            "-rw-r--r-- 1 root   root  6053168 Sep 20 19:26 stackoverflow\n",
            "drwxr-xr-x 6 206704 89939    4096 May 26  2020 test\n",
            "drwxr-xr-x 6 206704 89939    4096 May 26  2020 train\n"
          ]
        }
      ]
    },
    {
      "cell_type": "code",
      "source": [
        "BATCH_SIZE = 32\n",
        "seed = 123\n",
        "\n",
        "train_ds = tf.keras.utils.text_dataset_from_directory(\n",
        "    \"train\",\n",
        "    seed=seed,\n",
        "    shuffle=True,\n",
        "    validation_split=0.2,\n",
        "    subset=\"training\",\n",
        "    batch_size=BATCH_SIZE\n",
        ")"
      ],
      "metadata": {
        "colab": {
          "base_uri": "https://localhost:8080/"
        },
        "id": "13tViUCkXjdd",
        "outputId": "b8a193ea-de61-4d03-b537-fd49d12400f7"
      },
      "execution_count": 18,
      "outputs": [
        {
          "output_type": "stream",
          "name": "stdout",
          "text": [
            "Found 8000 files belonging to 4 classes.\n",
            "Using 6400 files for training.\n"
          ]
        }
      ]
    },
    {
      "cell_type": "code",
      "source": [
        "val_ds = tf.keras.utils.text_dataset_from_directory(\n",
        "    \"train\",\n",
        "    shuffle=True,\n",
        "    seed=seed,\n",
        "    validation_split=0.2,\n",
        "    subset=\"validation\",\n",
        "    batch_size=BATCH_SIZE\n",
        ")"
      ],
      "metadata": {
        "colab": {
          "base_uri": "https://localhost:8080/"
        },
        "id": "PrdUgfvwX6ZP",
        "outputId": "fcbf594e-74dd-4204-89e2-96acd6ac85e4"
      },
      "execution_count": 19,
      "outputs": [
        {
          "output_type": "stream",
          "name": "stdout",
          "text": [
            "Found 8000 files belonging to 4 classes.\n",
            "Using 1600 files for validation.\n"
          ]
        }
      ]
    },
    {
      "cell_type": "code",
      "source": [
        "test_ds = tf.keras.utils.text_dataset_from_directory(\n",
        "    \"test\",\n",
        "    shuffle=True,\n",
        "    batch_size=BATCH_SIZE\n",
        ")"
      ],
      "metadata": {
        "colab": {
          "base_uri": "https://localhost:8080/"
        },
        "id": "w1ucYaR5YEw2",
        "outputId": "dc2eeff6-f910-4f34-a0dd-878f124547f3"
      },
      "execution_count": 20,
      "outputs": [
        {
          "output_type": "stream",
          "name": "stdout",
          "text": [
            "Found 8000 files belonging to 4 classes.\n"
          ]
        }
      ]
    },
    {
      "cell_type": "code",
      "source": [
        "class_names = train_ds.class_names"
      ],
      "metadata": {
        "id": "inIxaFi-Y232"
      },
      "execution_count": 21,
      "outputs": []
    },
    {
      "cell_type": "code",
      "source": [
        "train_ds = train_ds.shuffle(1000)\n",
        "val_ds = val_ds.shuffle(1000)\n",
        "test_ds = test_ds.shuffle(1000)"
      ],
      "metadata": {
        "id": "Mxzb5VKJYpgF"
      },
      "execution_count": 22,
      "outputs": []
    },
    {
      "cell_type": "code",
      "source": [
        "for text_batch, labels_batch in train_ds.take(1):\n",
        "  for i in range(3):\n",
        "    print(f\"Text: {text_batch[i]}\")\n",
        "    print(f\"Label: {class_names[labels_batch[i]]}\")"
      ],
      "metadata": {
        "colab": {
          "base_uri": "https://localhost:8080/"
        },
        "id": "mRLyVu2-YMnX",
        "outputId": "33823cf7-2611-4536-d997-9fc94863e9f5"
      },
      "execution_count": 23,
      "outputs": [
        {
          "output_type": "stream",
          "name": "stdout",
          "text": [
            "Text: b'\"how to format signed currency i have the following scenario. a decimal value needs to be displayed as a currency but include the appropriate currency symbol and sign, thus:...-45.23 is displayed as -\\xc2\\xa345.23.45.23 is displayed as +\\xc2\\xa345.23...the currency sign must come from system.globalization.cultureinfo.currentculture.numberformat.currencysymbol. i have this, but i can\\'t find a way to swap the sign and currency symbol:..string s1 = string.format(@\"\"{1}{0:+#,##0.00;-#,##0.00}\"\", 45.09m, .    system.globalization.cultureinfo.currentculture.numberformat.currencysymbol);.console.writeline(s2);.string s2 = string.format(@\"\"{1}{0:+#,##0.00;-#,##0.00}\"\", -45.09m, .    system.globalization.cultureinfo.currentculture.numberformat.currencysymbol);.console.writeline(s2);...outputs:..\\xc2\\xa3+45.09.\\xc2\\xa3-45.09...i want:..+\\xc2\\xa345.09.-\\xc2\\xa345.09...update..someone posted another answer regarding the numberformatinfo.currencypositivepattern property, which looked promising, especially since the but it appears that microsoft overlooked the possibility that the numberformatinfo.currencynegativepattern property contains various options for the presentation of the negative sign. however, the numberformatinfo.currencypositivepattern does not include an option to include the positive sign! damn. thanks to whoever it was that mentioned it, but deleted their comments. i learnt someone nevertheless.\"\\n'\n",
            "Label: csharp\n",
            "Text: b'\"for loop is not giving values as per range        for(opv=230;opv&lt;245;opv++).       {.           for(ikw=1.3;ikw&lt;=2.9;ikw++).           {.               for(okw=0.01;okw&lt;0.50;okw++).              {.                     for(opi=0.05;opi&lt;0.50;opi++).                     {.                           opv=opv+1;.                           ikw=ikw++;.                           okw=okw++;..                           system.out.println( opv+\"\"\"\"+ikw+\"\"+okw+\"\"+opi\"\")...my for loop is not giving me result as per the ranges i have given.suggest some modifications if any\"\\n'\n",
            "Label: java\n",
            "Text: b'\"how to show multiple slideshow on single page i am making a slideshow using w3schools. but this code is unable to show multiple slideshows on single page. can anybody help in modifying this code to work on multiple slideshows. i want to show more than 2 slideshows.....var slideindex = 1;.showdivs(slideindex);..function plusdivs(n) {.  showdivs(slideindex += n);.}..function currentdiv(n) {.  showdivs(slideindex = n);.}..function showdivs(n) {.  var i;.  var x = document.getelementsbyclassname(\"\"myslides\"\");.  var dots = document.getelementsbyclassname(\"\"demo\"\");.  if (n &gt; x.length) {slideindex = 1}    .  if (n &lt; 1) {slideindex = x.length}.  for (i = 0; i &lt; x.length; i++) {.     x[i].style.display = \"\"none\"\";  .  }.  for (i = 0; i &lt; dots.length; i++) {.     dots[i].classname = dots[i].classname.replace(\"\" w3-white\"\", \"\"\"\");.  }.  x[slideindex-1].style.display = \"\"block\"\";  .  dots[slideindex-1].classname += \"\" w3-white\"\";.}.&lt;div class=\"\"w3-content w3-display-container\"\" style=\"\"max-width:800px\"\"&gt;.  &lt;img class=\"\"myslides\"\" src=\"\"https://www.w3schools.com/w3css/img_mountains_wide.jpg\"\" style=\"\"width:100%\"\"&gt;.  &lt;img class=\"\"myslides\"\" src=\"\"https://www.w3schools.com/w3css/img_nature_wide.jpg\"\" style=\"\"width:100%\"\"&gt;.  &lt;img class=\"\"myslides\"\" src=\"\"https://www.w3schools.com/w3css/img_fjords_wide.jpg\"\" style=\"\"width:100%\"\"&gt;.  &lt;div class=\"\"w3-center w3-container w3-section w3-large w3-text-white w3-display-bottommiddle\"\" style=\"\"width:100%\"\"&gt;.    &lt;div class=\"\"w3-left w3-hover-text-khaki\"\" onclick=\"\"plusdivs(-1)\"\"&gt;&amp;#10094;&lt;/div&gt;.    &lt;div class=\"\"w3-right w3-hover-text-khaki\"\" onclick=\"\"plusdivs(1)\"\"&gt;&amp;#10095;&lt;/div&gt;.    &lt;span class=\"\"w3-badge demo w3-border w3-transparent w3-hover-white\"\" onclick=\"\"currentdiv(1)\"\"&gt;&lt;/span&gt;.    &lt;span class=\"\"w3-badge demo w3-border w3-transparent w3-hover-white\"\" onclick=\"\"currentdiv(2)\"\"&gt;&lt;/span&gt;.    &lt;span class=\"\"w3-badge demo w3-border w3-transparent w3-hover-white\"\" onclick=\"\"currentdiv(3)\"\"&gt;&lt;/span&gt;.  &lt;/div&gt;.&lt;/div&gt;\"\\n'\n",
            "Label: javascript\n"
          ]
        }
      ]
    },
    {
      "cell_type": "code",
      "source": [
        "def custom_standardization(inputs):\n",
        "  lowercase = tf.strings.lower(inputs)\n",
        "  return tf.strings.regex_replace(\n",
        "      lowercase, '[.,]', \" \"\n",
        "  )"
      ],
      "metadata": {
        "id": "KsrIpMz_b8cu"
      },
      "execution_count": 49,
      "outputs": []
    },
    {
      "cell_type": "code",
      "source": [
        "max_features = 20000\n",
        "sequence_length = 400\n",
        "\n",
        "vectorize_layer = tf.keras.layers.TextVectorization(\n",
        "    standardize=custom_standardization,\n",
        "    output_sequence_length=sequence_length,\n",
        "    max_tokens=max_features\n",
        ")"
      ],
      "metadata": {
        "id": "Aiw_N59DZA_l"
      },
      "execution_count": 50,
      "outputs": []
    },
    {
      "cell_type": "code",
      "source": [
        "train_text = train_ds.map(lambda x, y: x)\n",
        "vectorize_layer.adapt(train_text)"
      ],
      "metadata": {
        "id": "b0Sy7RAPbxyg"
      },
      "execution_count": 51,
      "outputs": []
    },
    {
      "cell_type": "code",
      "source": [
        "def vectorize_text(text, label):\n",
        "  text = tf.expand_dims(text, -1)\n",
        "  return vectorize_layer(text), label"
      ],
      "metadata": {
        "id": "mqsP0p6nawd-"
      },
      "execution_count": 52,
      "outputs": []
    },
    {
      "cell_type": "code",
      "source": [
        "text_batch, labels_batch = next(iter(train_ds))\n",
        "print(f\"Text: {text_batch[0]}\")\n",
        "print(f\"Label: {class_names[labels_batch[0]]}\")\n",
        "print(f\"Processed text: {vectorize_text(text_batch[0], labels_batch[0])}\")"
      ],
      "metadata": {
        "colab": {
          "base_uri": "https://localhost:8080/"
        },
        "id": "ejjWFbhaafv2",
        "outputId": "1ee60e7d-2218-44e5-9ffe-0fb4e54d1720"
      },
      "execution_count": 53,
      "outputs": [
        {
          "output_type": "stream",
          "name": "stdout",
          "text": [
            "Text: b'\"how could i get a random string from a list and assign it to a variable my list is defined as:..list&lt;string&gt; firstnames = new list&lt;string&gt;();...when i add some strings to this list, how would i go about retrieving a random string from the list? something like:..string currname = somefunctionof (firstnames);\"\\n'\n",
            "Label: csharp\n",
            "Processed text: (<tf.Tensor: shape=(1, 400), dtype=int64, numpy=\n",
            "array([[ 110,  184,    4,   58,    6,  263,   23,   34,    6,   67,   11,\n",
            "         678,   16,    5,    6,  129,   26,   67,    9,  534, 1711, 1155,\n",
            "           1,    3,   19, 3024,   52,    4,  152,  107,  455,    5,   13,\n",
            "          67,   38,   75,    4,  392,  249, 5676,    6,  263,   23,   34,\n",
            "           2, 1879,  158,  747,   23,    1,    3,    1,    1,    0,    0,\n",
            "           0,    0,    0,    0,    0,    0,    0,    0,    0,    0,    0,\n",
            "           0,    0,    0,    0,    0,    0,    0,    0,    0,    0,    0,\n",
            "           0,    0,    0,    0,    0,    0,    0,    0,    0,    0,    0,\n",
            "           0,    0,    0,    0,    0,    0,    0,    0,    0,    0,    0,\n",
            "           0,    0,    0,    0,    0,    0,    0,    0,    0,    0,    0,\n",
            "           0,    0,    0,    0,    0,    0,    0,    0,    0,    0,    0,\n",
            "           0,    0,    0,    0,    0,    0,    0,    0,    0,    0,    0,\n",
            "           0,    0,    0,    0,    0,    0,    0,    0,    0,    0,    0,\n",
            "           0,    0,    0,    0,    0,    0,    0,    0,    0,    0,    0,\n",
            "           0,    0,    0,    0,    0,    0,    0,    0,    0,    0,    0,\n",
            "           0,    0,    0,    0,    0,    0,    0,    0,    0,    0,    0,\n",
            "           0,    0,    0,    0,    0,    0,    0,    0,    0,    0,    0,\n",
            "           0,    0,    0,    0,    0,    0,    0,    0,    0,    0,    0,\n",
            "           0,    0,    0,    0,    0,    0,    0,    0,    0,    0,    0,\n",
            "           0,    0,    0,    0,    0,    0,    0,    0,    0,    0,    0,\n",
            "           0,    0,    0,    0,    0,    0,    0,    0,    0,    0,    0,\n",
            "           0,    0,    0,    0,    0,    0,    0,    0,    0,    0,    0,\n",
            "           0,    0,    0,    0,    0,    0,    0,    0,    0,    0,    0,\n",
            "           0,    0,    0,    0,    0,    0,    0,    0,    0,    0,    0,\n",
            "           0,    0,    0,    0,    0,    0,    0,    0,    0,    0,    0,\n",
            "           0,    0,    0,    0,    0,    0,    0,    0,    0,    0,    0,\n",
            "           0,    0,    0,    0,    0,    0,    0,    0,    0,    0,    0,\n",
            "           0,    0,    0,    0,    0,    0,    0,    0,    0,    0,    0,\n",
            "           0,    0,    0,    0,    0,    0,    0,    0,    0,    0,    0,\n",
            "           0,    0,    0,    0,    0,    0,    0,    0,    0,    0,    0,\n",
            "           0,    0,    0,    0,    0,    0,    0,    0,    0,    0,    0,\n",
            "           0,    0,    0,    0,    0,    0,    0,    0,    0,    0,    0,\n",
            "           0,    0,    0,    0,    0,    0,    0,    0,    0,    0,    0,\n",
            "           0,    0,    0,    0,    0,    0,    0,    0,    0,    0,    0,\n",
            "           0,    0,    0,    0,    0,    0,    0,    0,    0,    0,    0,\n",
            "           0,    0,    0,    0,    0,    0,    0,    0,    0,    0,    0,\n",
            "           0,    0,    0,    0]])>, <tf.Tensor: shape=(), dtype=int32, numpy=0>)\n"
          ]
        }
      ]
    },
    {
      "cell_type": "code",
      "source": [
        "AUTOTUNE = tf.data.AUTOTUNE\n",
        "\n",
        "train_ds = train_ds.cache().prefetch(buffer_size=AUTOTUNE)\n",
        "val_ds = val_ds.cache().prefetch(buffer_size=AUTOTUNE)\n",
        "test_ds = test_ds.cache().prefetch(buffer_size=AUTOTUNE)"
      ],
      "metadata": {
        "id": "gbQ6EgYscpUA"
      },
      "execution_count": 54,
      "outputs": []
    },
    {
      "cell_type": "code",
      "source": [
        "embedding_dim = 16\n",
        "\n",
        "model = tf.keras.Sequential([\n",
        "    vectorize_layer,\n",
        "    tf.keras.layers.Embedding(max_features+1, embedding_dim),\n",
        "    tf.keras.layers.Dropout(0.2),\n",
        "    tf.keras.layers.GlobalAveragePooling1D(),\n",
        "    tf.keras.layers.Dropout(0.2),\n",
        "    tf.keras.layers.Dense(len(class_names))\n",
        "])"
      ],
      "metadata": {
        "id": "1J2msUs9ciDv"
      },
      "execution_count": 55,
      "outputs": []
    },
    {
      "cell_type": "code",
      "source": [
        "model.compile(\n",
        "    optimizer=tf.keras.optimizers.Adam(),\n",
        "    loss=tf.keras.losses.SparseCategoricalCrossentropy(from_logits=True),\n",
        "    metrics=[\"accuracy\"]\n",
        ")"
      ],
      "metadata": {
        "id": "LHYoE8zNdRzP"
      },
      "execution_count": 58,
      "outputs": []
    },
    {
      "cell_type": "code",
      "source": [
        "EPOCHS = 10\n",
        "\n",
        "history = model.fit(\n",
        "    train_ds,\n",
        "    validation_data=val_ds,\n",
        "    epochs=EPOCHS\n",
        ")"
      ],
      "metadata": {
        "colab": {
          "base_uri": "https://localhost:8080/"
        },
        "id": "l-YfsntydJ8S",
        "outputId": "5efcdd72-ba2b-4d6a-d584-0fe794953319"
      },
      "execution_count": 59,
      "outputs": [
        {
          "output_type": "stream",
          "name": "stdout",
          "text": [
            "Epoch 1/10\n",
            "200/200 [==============================] - 3s 8ms/step - loss: 1.3757 - accuracy: 0.3942 - val_loss: 1.3628 - val_accuracy: 0.4369\n",
            "Epoch 2/10\n",
            "200/200 [==============================] - 1s 6ms/step - loss: 1.3403 - accuracy: 0.5130 - val_loss: 1.3180 - val_accuracy: 0.5188\n",
            "Epoch 3/10\n",
            "200/200 [==============================] - 1s 7ms/step - loss: 1.2783 - accuracy: 0.5803 - val_loss: 1.2508 - val_accuracy: 0.5769\n",
            "Epoch 4/10\n",
            "200/200 [==============================] - 1s 6ms/step - loss: 1.1984 - accuracy: 0.6430 - val_loss: 1.1722 - val_accuracy: 0.6438\n",
            "Epoch 5/10\n",
            "200/200 [==============================] - 1s 7ms/step - loss: 1.1086 - accuracy: 0.6920 - val_loss: 1.0928 - val_accuracy: 0.6881\n",
            "Epoch 6/10\n",
            "200/200 [==============================] - 1s 7ms/step - loss: 1.0232 - accuracy: 0.7294 - val_loss: 1.0200 - val_accuracy: 0.7306\n",
            "Epoch 7/10\n",
            "200/200 [==============================] - 1s 6ms/step - loss: 0.9461 - accuracy: 0.7733 - val_loss: 0.9547 - val_accuracy: 0.7544\n",
            "Epoch 8/10\n",
            "200/200 [==============================] - 1s 6ms/step - loss: 0.8772 - accuracy: 0.7906 - val_loss: 0.8971 - val_accuracy: 0.7650\n",
            "Epoch 9/10\n",
            "200/200 [==============================] - 1s 6ms/step - loss: 0.8150 - accuracy: 0.8039 - val_loss: 0.8470 - val_accuracy: 0.7738\n",
            "Epoch 10/10\n",
            "200/200 [==============================] - 1s 6ms/step - loss: 0.7622 - accuracy: 0.8245 - val_loss: 0.8031 - val_accuracy: 0.7831\n"
          ]
        }
      ]
    },
    {
      "cell_type": "code",
      "source": [
        "history_dict = history.history\n",
        "print(history_dict.keys())"
      ],
      "metadata": {
        "colab": {
          "base_uri": "https://localhost:8080/"
        },
        "id": "NUSHYqZ6dg0v",
        "outputId": "47d48fed-302e-453a-efb0-e2df3376876e"
      },
      "execution_count": 60,
      "outputs": [
        {
          "output_type": "stream",
          "name": "stdout",
          "text": [
            "dict_keys(['loss', 'accuracy', 'val_loss', 'val_accuracy'])\n"
          ]
        }
      ]
    },
    {
      "cell_type": "code",
      "source": [
        "accuracy = history_dict[\"accuracy\"]\n",
        "val_accuracy = history_dict[\"val_accuracy\"]\n",
        "\n",
        "loss = history_dict[\"loss\"]\n",
        "val_loss = history_dict[\"val_loss\"]\n",
        "\n",
        "import matplotlib.pyplot as plt\n",
        "\n",
        "plt.figure(figsize=(8,8))\n",
        "plt.subplot(2,1,1)\n",
        "plt.plot(accuracy, label=\"Accuracy\")\n",
        "plt.plot(val_accuracy, label=\"Validation accuracy\")\n",
        "plt.ylabel(\"Accuracy\")\n",
        "plt.legend(loc=\"upper left\")\n",
        "\n",
        "plt.subplot(2,1,2)\n",
        "plt.plot(loss, label=\"Loss\")\n",
        "plt.plot(val_loss, label=\"Validation loss\")\n",
        "plt.ylabel(\"Loss\")\n",
        "plt.legend(loc=\"upper left\")\n",
        "\n",
        "plt.show()"
      ],
      "metadata": {
        "colab": {
          "base_uri": "https://localhost:8080/",
          "height": 483
        },
        "id": "61Q8ZSMJdt07",
        "outputId": "a9fec411-12d8-4984-bf47-81d4e4b6c6af"
      },
      "execution_count": 61,
      "outputs": [
        {
          "output_type": "display_data",
          "data": {
            "text/plain": [
              "<Figure size 576x576 with 2 Axes>"
            ],
            "image/png": "[encoded data removed]"
          },
          "metadata": {
            "needs_background": "light"
          }
        }
      ]
    },
    {
      "cell_type": "code",
      "source": [
        "loss, acc = model.evaluate(test_ds)\n",
        "print(f\"Accuracy: {acc}\")"
      ],
      "metadata": {
        "colab": {
          "base_uri": "https://localhost:8080/"
        },
        "id": "Ek84HhP2eRVw",
        "outputId": "e08e252f-285f-482e-c5d9-4f7b44035534"
      },
      "execution_count": 62,
      "outputs": [
        {
          "output_type": "stream",
          "name": "stdout",
          "text": [
            "250/250 [==============================] - 1s 2ms/step - loss: 0.7917 - accuracy: 0.7950\n",
            "Accuracy: 0.7950000166893005\n"
          ]
        }
      ]
    },
    {
      "cell_type": "code",
      "source": [
        "features = [\"Question regarding numpy. for i in range(1): print('hi') javascript javascript def func(): print('ja')\"]\n",
        "\n",
        "import numpy as np\n",
        "\n",
        "print(class_names[np.argmax(model.predict(features))])"
      ],
      "metadata": {
        "colab": {
          "base_uri": "https://localhost:8080/"
        },
        "id": "a8mlFXBneXV_",
        "outputId": "688ccc0c-c01f-4f23-e09a-cf248143997a"
      },
      "execution_count": 70,
      "outputs": [
        {
          "output_type": "stream",
          "name": "stdout",
          "text": [
            "python\n"
          ]
        }
      ]
    }
  ]
}